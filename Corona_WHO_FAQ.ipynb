{
 "cells": [
  {
   "cell_type": "markdown",
   "metadata": {},
   "source": [
    "## WHO questions & answers new coronavirus (COVID-19)\n",
    "\n",
    "In connection with the coronavirus and the many questions on this subject, I have created a dataset with frequently asked questions and answers from the worlth health organisation (WHO). The questions come from this website: https://www.who.int/news-room/q-a-detail/q-a-coronaviruses\n",
    "\n",
    "On this website you can find an answer to a question you have regarding the corona virus fairly quickly. However, with a chatbot it could go a lot faster. You simply ask your question and immediatly receive a corresponding answer. \n",
    "\n",
    "In the code below, I first load the dataset that contains the answers under \"Answer\" and the context of the answers under \"Context\". These columns should be interpreted as follows:\n",
    "- `Answer` is a possible answer to a question.\n",
    "- `Context` is a possible context in which the answer may apply."
   ]
  },
  {
   "cell_type": "code",
   "execution_count": 2,
   "metadata": {},
   "outputs": [
    {
     "data": {
      "text/html": [
       "<div>\n",
       "<style scoped>\n",
       "    .dataframe tbody tr th:only-of-type {\n",
       "        vertical-align: middle;\n",
       "    }\n",
       "\n",
       "    .dataframe tbody tr th {\n",
       "        vertical-align: top;\n",
       "    }\n",
       "\n",
       "    .dataframe thead th {\n",
       "        text-align: right;\n",
       "    }\n",
       "</style>\n",
       "<table border=\"1\" class=\"dataframe\">\n",
       "  <thead>\n",
       "    <tr style=\"text-align: right;\">\n",
       "      <th></th>\n",
       "      <th>Context</th>\n",
       "      <th>Answer</th>\n",
       "      <th>Unnamed: 2</th>\n",
       "    </tr>\n",
       "  </thead>\n",
       "  <tbody>\n",
       "    <tr>\n",
       "      <th>0</th>\n",
       "      <td>What is a coronavirus?</td>\n",
       "      <td>Coronaviruses are a large family of viruses which may cause illness in animals or humans.</td>\n",
       "      <td>NaN</td>\n",
       "    </tr>\n",
       "    <tr>\n",
       "      <th>1</th>\n",
       "      <td>What is a coronavirus?</td>\n",
       "      <td>In humans, several coronaviruses are known to cause respiratory infections ranging from the comm...</td>\n",
       "      <td>NaN</td>\n",
       "    </tr>\n",
       "    <tr>\n",
       "      <th>2</th>\n",
       "      <td>What is COVID-19?</td>\n",
       "      <td>COVID-19 is the infectious disease caused by the most recently discovered coronavirus. This new ...</td>\n",
       "      <td>NaN</td>\n",
       "    </tr>\n",
       "    <tr>\n",
       "      <th>3</th>\n",
       "      <td>What are the symptoms of COVID-19?</td>\n",
       "      <td>The most common symptoms of COVID-19 are fever, tiredness, and dry cough. Some patients may have...</td>\n",
       "      <td>NaN</td>\n",
       "    </tr>\n",
       "    <tr>\n",
       "      <th>4</th>\n",
       "      <td>What are the symptoms of COVID-19?</td>\n",
       "      <td>Some people become infected but don’t develop any symptoms and don't feel unwell. Most people (a...</td>\n",
       "      <td>NaN</td>\n",
       "    </tr>\n",
       "  </tbody>\n",
       "</table>\n",
       "</div>"
      ],
      "text/plain": [
       "                              Context  \\\n",
       "0              What is a coronavirus?   \n",
       "1              What is a coronavirus?   \n",
       "2                   What is COVID-19?   \n",
       "3  What are the symptoms of COVID-19?   \n",
       "4  What are the symptoms of COVID-19?   \n",
       "\n",
       "                                                                                                Answer  \\\n",
       "0           Coronaviruses are a large family of viruses which may cause illness in animals or humans.    \n",
       "1  In humans, several coronaviruses are known to cause respiratory infections ranging from the comm...   \n",
       "2  COVID-19 is the infectious disease caused by the most recently discovered coronavirus. This new ...   \n",
       "3  The most common symptoms of COVID-19 are fever, tiredness, and dry cough. Some patients may have...   \n",
       "4  Some people become infected but don’t develop any symptoms and don't feel unwell. Most people (a...   \n",
       "\n",
       "   Unnamed: 2  \n",
       "0         NaN  \n",
       "1         NaN  \n",
       "2         NaN  \n",
       "3         NaN  \n",
       "4         NaN  "
      ]
     },
     "execution_count": 2,
     "metadata": {},
     "output_type": "execute_result"
    }
   ],
   "source": [
    "import numpy as np\n",
    "import pandas as pd\n",
    "\n",
    "# dataset coronavirus WHO\n",
    "pd.set_option('max_colwidth', 100)  # Increase column width\n",
    "data = pd.read_excel(\"WHO_FAQ.xlsx\")\n",
    "data.head()"
   ]
  },
  {
   "cell_type": "code",
   "execution_count": 3,
   "metadata": {},
   "outputs": [
    {
     "name": "stdout",
     "output_type": "stream",
     "text": [
      "Index(['Context', 'Answer', 'Unnamed: 2'], dtype='object')\n"
     ]
    }
   ],
   "source": [
    "print(data.columns)"
   ]
  },
  {
   "cell_type": "code",
   "execution_count": 4,
   "metadata": {},
   "outputs": [
    {
     "data": {
      "text/plain": [
       "(85, 3)"
      ]
     },
     "execution_count": 4,
     "metadata": {},
     "output_type": "execute_result"
    }
   ],
   "source": [
    "data.shape"
   ]
  },
  {
   "cell_type": "code",
   "execution_count": 5,
   "metadata": {},
   "outputs": [
    {
     "data": {
      "text/plain": [
       "85"
      ]
     },
     "execution_count": 5,
     "metadata": {},
     "output_type": "execute_result"
    }
   ],
   "source": [
    "data['Unnamed: 2'].isnull().sum()"
   ]
  },
  {
   "cell_type": "code",
   "execution_count": 6,
   "metadata": {},
   "outputs": [],
   "source": [
    "data = data.drop(columns=['Unnamed: 2'])"
   ]
  },
  {
   "cell_type": "code",
   "execution_count": 7,
   "metadata": {},
   "outputs": [
    {
     "data": {
      "text/plain": [
       "Index(['Context', 'Answer'], dtype='object')"
      ]
     },
     "execution_count": 7,
     "metadata": {},
     "output_type": "execute_result"
    }
   ],
   "source": [
    "data.columns"
   ]
  },
  {
   "cell_type": "markdown",
   "metadata": {},
   "source": [
    "To use these answers for a chatbot, we will first calculate the corresponding answer encodings."
   ]
  },
  {
   "cell_type": "markdown",
   "metadata": {},
   "source": [
    "### Universal Sentence Encoder Multilingual\n",
    "\n",
    "Now we can use the USE to create sentence encodings for the possible answers with context and the questions! \n",
    "\n",
    "To do so we load the module containing the USE, you can find this here: https://tfhub.dev/google/universal-sentence-encoder-multilingual-qa/3"
   ]
  },
  {
   "cell_type": "code",
   "execution_count": 16,
   "metadata": {},
   "outputs": [
    {
     "name": "stdout",
     "output_type": "stream",
     "text": [
      "Requirement already satisfied: tensorflow-hub in c:\\users\\sudar\\anaconda3\\lib\\site-packages (0.12.0)\n",
      "Requirement already satisfied: numpy>=1.12.0 in c:\\users\\sudar\\anaconda3\\lib\\site-packages (from tensorflow-hub) (1.20.1)\n",
      "Requirement already satisfied: protobuf>=3.8.0 in c:\\users\\sudar\\anaconda3\\lib\\site-packages (from tensorflow-hub) (3.19.4)\n",
      "Note: you may need to restart the kernel to use updated packages.\n"
     ]
    }
   ],
   "source": [
    "pip install tensorflow-hub"
   ]
  },
  {
   "cell_type": "code",
   "execution_count": 17,
   "metadata": {},
   "outputs": [
    {
     "name": "stdout",
     "output_type": "stream",
     "text": [
      "Collecting tensorflow-text\n",
      "  Downloading tensorflow_text-2.8.2-cp38-cp38-win_amd64.whl (2.5 MB)\n",
      "Requirement already satisfied: tensorflow-hub>=0.8.0 in c:\\users\\sudar\\anaconda3\\lib\\site-packages (from tensorflow-text) (0.12.0)\n",
      "Requirement already satisfied: tensorflow<2.9,>=2.8.0 in c:\\users\\sudar\\anaconda3\\lib\\site-packages (from tensorflow-text) (2.8.0)\n",
      "Requirement already satisfied: keras<2.9,>=2.8.0rc0 in c:\\users\\sudar\\anaconda3\\lib\\site-packages (from tensorflow<2.9,>=2.8.0->tensorflow-text) (2.8.0)\n",
      "Requirement already satisfied: wrapt>=1.11.0 in c:\\users\\sudar\\anaconda3\\lib\\site-packages (from tensorflow<2.9,>=2.8.0->tensorflow-text) (1.12.1)\n",
      "Requirement already satisfied: keras-preprocessing>=1.1.1 in c:\\users\\sudar\\anaconda3\\lib\\site-packages (from tensorflow<2.9,>=2.8.0->tensorflow-text) (1.1.2)\n",
      "Requirement already satisfied: absl-py>=0.4.0 in c:\\users\\sudar\\anaconda3\\lib\\site-packages (from tensorflow<2.9,>=2.8.0->tensorflow-text) (1.0.0)\n",
      "Requirement already satisfied: setuptools in c:\\users\\sudar\\anaconda3\\lib\\site-packages (from tensorflow<2.9,>=2.8.0->tensorflow-text) (52.0.0.post20210125)\n",
      "Requirement already satisfied: grpcio<2.0,>=1.24.3 in c:\\users\\sudar\\anaconda3\\lib\\site-packages (from tensorflow<2.9,>=2.8.0->tensorflow-text) (1.44.0)\n",
      "Requirement already satisfied: h5py>=2.9.0 in c:\\users\\sudar\\anaconda3\\lib\\site-packages (from tensorflow<2.9,>=2.8.0->tensorflow-text) (2.10.0)\n",
      "Requirement already satisfied: gast>=0.2.1 in c:\\users\\sudar\\anaconda3\\lib\\site-packages (from tensorflow<2.9,>=2.8.0->tensorflow-text) (0.5.3)\n",
      "Requirement already satisfied: protobuf>=3.9.2 in c:\\users\\sudar\\anaconda3\\lib\\site-packages (from tensorflow<2.9,>=2.8.0->tensorflow-text) (3.19.4)\n",
      "Requirement already satisfied: numpy>=1.20 in c:\\users\\sudar\\anaconda3\\lib\\site-packages (from tensorflow<2.9,>=2.8.0->tensorflow-text) (1.20.1)\n",
      "Requirement already satisfied: tf-estimator-nightly==2.8.0.dev2021122109 in c:\\users\\sudar\\anaconda3\\lib\\site-packages (from tensorflow<2.9,>=2.8.0->tensorflow-text) (2.8.0.dev2021122109)\n",
      "Requirement already satisfied: tensorflow-io-gcs-filesystem>=0.23.1 in c:\\users\\sudar\\anaconda3\\lib\\site-packages (from tensorflow<2.9,>=2.8.0->tensorflow-text) (0.24.0)\n",
      "Requirement already satisfied: libclang>=9.0.1 in c:\\users\\sudar\\anaconda3\\lib\\site-packages (from tensorflow<2.9,>=2.8.0->tensorflow-text) (13.0.0)\n",
      "Requirement already satisfied: flatbuffers>=1.12 in c:\\users\\sudar\\anaconda3\\lib\\site-packages (from tensorflow<2.9,>=2.8.0->tensorflow-text) (2.0)\n",
      "Requirement already satisfied: opt-einsum>=2.3.2 in c:\\users\\sudar\\anaconda3\\lib\\site-packages (from tensorflow<2.9,>=2.8.0->tensorflow-text) (3.3.0)\n",
      "Requirement already satisfied: typing-extensions>=3.6.6 in c:\\users\\sudar\\anaconda3\\lib\\site-packages (from tensorflow<2.9,>=2.8.0->tensorflow-text) (3.7.4.3)\n",
      "Requirement already satisfied: termcolor>=1.1.0 in c:\\users\\sudar\\anaconda3\\lib\\site-packages (from tensorflow<2.9,>=2.8.0->tensorflow-text) (1.1.0)\n",
      "Requirement already satisfied: google-pasta>=0.1.1 in c:\\users\\sudar\\anaconda3\\lib\\site-packages (from tensorflow<2.9,>=2.8.0->tensorflow-text) (0.2.0)\n",
      "Requirement already satisfied: tensorboard<2.9,>=2.8 in c:\\users\\sudar\\anaconda3\\lib\\site-packages (from tensorflow<2.9,>=2.8.0->tensorflow-text) (2.8.0)\n",
      "Requirement already satisfied: six>=1.12.0 in c:\\users\\sudar\\anaconda3\\lib\\site-packages (from tensorflow<2.9,>=2.8.0->tensorflow-text) (1.15.0)\n",
      "Requirement already satisfied: astunparse>=1.6.0 in c:\\users\\sudar\\anaconda3\\lib\\site-packages (from tensorflow<2.9,>=2.8.0->tensorflow-text) (1.6.3)\n",
      "Requirement already satisfied: wheel<1.0,>=0.23.0 in c:\\users\\sudar\\anaconda3\\lib\\site-packages (from astunparse>=1.6.0->tensorflow<2.9,>=2.8.0->tensorflow-text) (0.36.2)\n",
      "Requirement already satisfied: tensorboard-data-server<0.7.0,>=0.6.0 in c:\\users\\sudar\\anaconda3\\lib\\site-packages (from tensorboard<2.9,>=2.8->tensorflow<2.9,>=2.8.0->tensorflow-text) (0.6.1)\n",
      "Requirement already satisfied: google-auth<3,>=1.6.3 in c:\\users\\sudar\\anaconda3\\lib\\site-packages (from tensorboard<2.9,>=2.8->tensorflow<2.9,>=2.8.0->tensorflow-text) (2.6.0)\n",
      "Requirement already satisfied: requests<3,>=2.21.0 in c:\\users\\sudar\\anaconda3\\lib\\site-packages (from tensorboard<2.9,>=2.8->tensorflow<2.9,>=2.8.0->tensorflow-text) (2.25.1)\n",
      "Requirement already satisfied: markdown>=2.6.8 in c:\\users\\sudar\\anaconda3\\lib\\site-packages (from tensorboard<2.9,>=2.8->tensorflow<2.9,>=2.8.0->tensorflow-text) (3.3.6)\n",
      "Requirement already satisfied: google-auth-oauthlib<0.5,>=0.4.1 in c:\\users\\sudar\\anaconda3\\lib\\site-packages (from tensorboard<2.9,>=2.8->tensorflow<2.9,>=2.8.0->tensorflow-text) (0.4.6)\n",
      "Requirement already satisfied: tensorboard-plugin-wit>=1.6.0 in c:\\users\\sudar\\anaconda3\\lib\\site-packages (from tensorboard<2.9,>=2.8->tensorflow<2.9,>=2.8.0->tensorflow-text) (1.8.1)\n",
      "Requirement already satisfied: werkzeug>=0.11.15 in c:\\users\\sudar\\anaconda3\\lib\\site-packages (from tensorboard<2.9,>=2.8->tensorflow<2.9,>=2.8.0->tensorflow-text) (1.0.1)\n",
      "Requirement already satisfied: cachetools<6.0,>=2.0.0 in c:\\users\\sudar\\anaconda3\\lib\\site-packages (from google-auth<3,>=1.6.3->tensorboard<2.9,>=2.8->tensorflow<2.9,>=2.8.0->tensorflow-text) (5.0.0)\n",
      "Requirement already satisfied: pyasn1-modules>=0.2.1 in c:\\users\\sudar\\anaconda3\\lib\\site-packages (from google-auth<3,>=1.6.3->tensorboard<2.9,>=2.8->tensorflow<2.9,>=2.8.0->tensorflow-text) (0.2.8)\n",
      "Requirement already satisfied: rsa<5,>=3.1.4 in c:\\users\\sudar\\anaconda3\\lib\\site-packages (from google-auth<3,>=1.6.3->tensorboard<2.9,>=2.8->tensorflow<2.9,>=2.8.0->tensorflow-text) (4.8)\n",
      "Requirement already satisfied: requests-oauthlib>=0.7.0 in c:\\users\\sudar\\anaconda3\\lib\\site-packages (from google-auth-oauthlib<0.5,>=0.4.1->tensorboard<2.9,>=2.8->tensorflow<2.9,>=2.8.0->tensorflow-text) (1.3.0)\n",
      "Requirement already satisfied: importlib-metadata>=4.4 in c:\\users\\sudar\\anaconda3\\lib\\site-packages (from markdown>=2.6.8->tensorboard<2.9,>=2.8->tensorflow<2.9,>=2.8.0->tensorflow-text) (4.11.1)\n",
      "Requirement already satisfied: zipp>=0.5 in c:\\users\\sudar\\anaconda3\\lib\\site-packages (from importlib-metadata>=4.4->markdown>=2.6.8->tensorboard<2.9,>=2.8->tensorflow<2.9,>=2.8.0->tensorflow-text) (3.4.1)\n",
      "Requirement already satisfied: pyasn1<0.5.0,>=0.4.6 in c:\\users\\sudar\\anaconda3\\lib\\site-packages (from pyasn1-modules>=0.2.1->google-auth<3,>=1.6.3->tensorboard<2.9,>=2.8->tensorflow<2.9,>=2.8.0->tensorflow-text) (0.4.8)\n",
      "Requirement already satisfied: urllib3<1.27,>=1.21.1 in c:\\users\\sudar\\anaconda3\\lib\\site-packages (from requests<3,>=2.21.0->tensorboard<2.9,>=2.8->tensorflow<2.9,>=2.8.0->tensorflow-text) (1.26.4)\n",
      "Requirement already satisfied: certifi>=2017.4.17 in c:\\users\\sudar\\anaconda3\\lib\\site-packages (from requests<3,>=2.21.0->tensorboard<2.9,>=2.8->tensorflow<2.9,>=2.8.0->tensorflow-text) (2020.12.5)\n",
      "Requirement already satisfied: idna<3,>=2.5 in c:\\users\\sudar\\anaconda3\\lib\\site-packages (from requests<3,>=2.21.0->tensorboard<2.9,>=2.8->tensorflow<2.9,>=2.8.0->tensorflow-text) (2.10)\n",
      "Requirement already satisfied: chardet<5,>=3.0.2 in c:\\users\\sudar\\anaconda3\\lib\\site-packages (from requests<3,>=2.21.0->tensorboard<2.9,>=2.8->tensorflow<2.9,>=2.8.0->tensorflow-text) (4.0.0)\n",
      "Requirement already satisfied: oauthlib>=3.0.0 in c:\\users\\sudar\\anaconda3\\lib\\site-packages (from requests-oauthlib>=0.7.0->google-auth-oauthlib<0.5,>=0.4.1->tensorboard<2.9,>=2.8->tensorflow<2.9,>=2.8.0->tensorflow-text) (3.1.1)\n",
      "Installing collected packages: tensorflow-text\n",
      "Successfully installed tensorflow-text-2.8.2\n",
      "Note: you may need to restart the kernel to use updated packages.\n"
     ]
    }
   ],
   "source": [
    "pip install tensorflow-text"
   ]
  },
  {
   "cell_type": "code",
   "execution_count": 18,
   "metadata": {},
   "outputs": [],
   "source": [
    "##### Use USE pretrained model to extract response encodings.\n",
    "import tensorflow as tf\n",
    "import tensorflow_hub as hub\n",
    "import tensorflow_text\n",
    "import re\n",
    "\n",
    "def preprocess_sentences(input_sentences):\n",
    "    return [re.sub(r'(covid-19|covid)', 'coronavirus', input_sentence, flags=re.I) \n",
    "            for input_sentence in input_sentences]\n",
    "        \n",
    "# Load module containing USE\n",
    "module = hub.load('https://tfhub.dev/google/universal-sentence-encoder-multilingual-qa/3')\n",
    "\n",
    "# Create response embeddings\n",
    "response_encodings = module.signatures['response_encoder'](\n",
    "        input=tf.constant(preprocess_sentences(data.Answer)),\n",
    "        context=tf.constant(preprocess_sentences(data.Context)))['outputs']"
   ]
  },
  {
   "cell_type": "markdown",
   "metadata": {},
   "source": [
    "Now it is time to test!\n",
    "\n",
    "The sentence encoding for the question is made in the variable `question_encodings`. Based on this, we choose the most representative answer. \n",
    "\n",
    "As described in the blog, the most representative answer is the one whose embedding minimizes the angle with the question embedding. This is equivalent to determining the maximum cosine of the angle, but since each embedding is already a vector of length 1, we only need to determine the maximum of the internal product. In the code below, that's the line:\n",
    "\n",
    "``np.argmax(np.inner(question_encodings, response_encodings), axis=1)``"
   ]
  },
  {
   "cell_type": "code",
   "execution_count": 23,
   "metadata": {},
   "outputs": [
    {
     "data": {
      "text/html": [
       "<div>\n",
       "<style scoped>\n",
       "    .dataframe tbody tr th:only-of-type {\n",
       "        vertical-align: middle;\n",
       "    }\n",
       "\n",
       "    .dataframe tbody tr th {\n",
       "        vertical-align: top;\n",
       "    }\n",
       "\n",
       "    .dataframe thead th {\n",
       "        text-align: right;\n",
       "    }\n",
       "</style>\n",
       "<table border=\"1\" class=\"dataframe\">\n",
       "  <thead>\n",
       "    <tr style=\"text-align: right;\">\n",
       "      <th></th>\n",
       "      <th>Test Questions</th>\n",
       "      <th>Test Responses</th>\n",
       "    </tr>\n",
       "  </thead>\n",
       "  <tbody>\n",
       "    <tr>\n",
       "      <th>16</th>\n",
       "      <td>What are rules to be followed?</td>\n",
       "      <td>Make sure you, and the people around you, follow good respiratory hygiene. This means covering y...</td>\n",
       "    </tr>\n",
       "  </tbody>\n",
       "</table>\n",
       "</div>"
      ],
      "text/plain": [
       "                    Test Questions  \\\n",
       "16  What are rules to be followed?   \n",
       "\n",
       "                                                                                         Test Responses  \n",
       "16  Make sure you, and the people around you, follow good respiratory hygiene. This means covering y...  "
      ]
     },
     "execution_count": 23,
     "metadata": {},
     "output_type": "execute_result"
    }
   ],
   "source": [
    "test_questions = [\n",
    "    \"What are rules to be followed?\",\n",
    "    # \"What about pregnant women?\",\n",
    "    # \"Wat is de lengte van de incubatietijd?\",\n",
    "    # \"Are animals contagious COVID-19?\",\n",
    "    # \"Are there medicine against the coronavirus?\",\n",
    "    # \"Can I breastfead when I have COVID-19?\",\n",
    "    # \"Should I stay inside the house?\",  # English questions are also possible.\n",
    "    # \"Kann ich mit meinem Hund spazieren gehen?\",# As well as German, and all the other languages supported by use-multilingual.\n",
    "]\n",
    "\n",
    "# Create encodings for test questions\n",
    "question_encodings = module.signatures['question_encoder'](\n",
    "    tf.constant(preprocess_sentences(test_questions))\n",
    ")['outputs']\n",
    "\n",
    "# Get the responses\n",
    "test_responses = data.Answer[np.argmax(np.inner(question_encodings, response_encodings), axis=1)]\n",
    "\n",
    "# Show them in a dataframe\n",
    "pd.DataFrame({'Test Questions': test_questions, 'Test Responses': test_responses})"
   ]
  },
  {
   "cell_type": "markdown",
   "metadata": {},
   "source": [
    "### Conclusion\n",
    "\n",
    "As you can see, the chatbot gives correct answers to questions in multiple languages! The reason we need to replace COVID-19 in the coronavirus dataset is because the model has never seen the word COVID-19 before (it did see coronavirus).\n",
    "\n",
    "Feel free to test multiple questions, you can do this by adding a question to `test_questions`.\n",
    "\n",
    "For further questions you could always [contact us directly](mailto:ai@wearetriple.com)!"
   ]
  },
  {
   "cell_type": "code",
   "execution_count": null,
   "metadata": {},
   "outputs": [],
   "source": []
  }
 ],
 "metadata": {
  "interpreter": {
   "hash": "2afb302d1a89be4e82daf87bd1129a8cd004289da8146c31cd4253c14659efe6"
  },
  "kernelspec": {
   "display_name": "Python 3.8.8 ('base')",
   "language": "python",
   "name": "python3"
  },
  "language_info": {
   "codemirror_mode": {
    "name": "ipython",
    "version": 3
   },
   "file_extension": ".py",
   "mimetype": "text/x-python",
   "name": "python",
   "nbconvert_exporter": "python",
   "pygments_lexer": "ipython3",
   "version": "3.8.8"
  }
 },
 "nbformat": 4,
 "nbformat_minor": 4
}
